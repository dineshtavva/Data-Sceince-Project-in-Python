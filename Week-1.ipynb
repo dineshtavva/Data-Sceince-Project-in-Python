{
 "cells": [
  {
   "cell_type": "code",
   "execution_count": 1,
   "id": "e96e52c6",
   "metadata": {},
   "outputs": [],
   "source": [
    "import pandas as pd\n",
    "import numpy as np\n",
    "import seaborn as sns\n",
    "import matplotlib.pyplot as plt\n",
    "from sklearn.model_selection import train_test_split\n",
    "from sklearn.tree import DecisionTreeClassifier, plot_tree, DecisionTreeRegressor\n",
    "from sklearn.metrics import roc_curve, roc_auc_score, mean_squared_error"
   ]
  },
  {
   "cell_type": "code",
   "execution_count": 2,
   "id": "cb90d09a",
   "metadata": {},
   "outputs": [],
   "source": [
    "df = pd.read_csv(\"C:/Users\\hp\\Downloads\\HMEQ_Scrubbed (1)\\HMEQ_Loss.csv\")"
   ]
  },
  {
   "cell_type": "code",
   "execution_count": 3,
   "id": "21afe3f0",
   "metadata": {},
   "outputs": [
    {
     "data": {
      "text/html": [
       "<div>\n",
       "<style scoped>\n",
       "    .dataframe tbody tr th:only-of-type {\n",
       "        vertical-align: middle;\n",
       "    }\n",
       "\n",
       "    .dataframe tbody tr th {\n",
       "        vertical-align: top;\n",
       "    }\n",
       "\n",
       "    .dataframe thead th {\n",
       "        text-align: right;\n",
       "    }\n",
       "</style>\n",
       "<table border=\"1\" class=\"dataframe\">\n",
       "  <thead>\n",
       "    <tr style=\"text-align: right;\">\n",
       "      <th></th>\n",
       "      <th>TARGET_BAD_FLAG</th>\n",
       "      <th>TARGET_LOSS_AMT</th>\n",
       "      <th>LOAN</th>\n",
       "      <th>MORTDUE</th>\n",
       "      <th>VALUE</th>\n",
       "      <th>REASON</th>\n",
       "      <th>JOB</th>\n",
       "      <th>YOJ</th>\n",
       "      <th>DEROG</th>\n",
       "      <th>DELINQ</th>\n",
       "      <th>CLAGE</th>\n",
       "      <th>NINQ</th>\n",
       "      <th>CLNO</th>\n",
       "      <th>DEBTINC</th>\n",
       "    </tr>\n",
       "  </thead>\n",
       "  <tbody>\n",
       "    <tr>\n",
       "      <th>0</th>\n",
       "      <td>1</td>\n",
       "      <td>641.0</td>\n",
       "      <td>1100</td>\n",
       "      <td>25860.0</td>\n",
       "      <td>39025.0</td>\n",
       "      <td>HomeImp</td>\n",
       "      <td>Other</td>\n",
       "      <td>10.5</td>\n",
       "      <td>0.0</td>\n",
       "      <td>0.0</td>\n",
       "      <td>94.366667</td>\n",
       "      <td>1.0</td>\n",
       "      <td>9.0</td>\n",
       "      <td>NaN</td>\n",
       "    </tr>\n",
       "    <tr>\n",
       "      <th>1</th>\n",
       "      <td>1</td>\n",
       "      <td>1109.0</td>\n",
       "      <td>1300</td>\n",
       "      <td>70053.0</td>\n",
       "      <td>68400.0</td>\n",
       "      <td>HomeImp</td>\n",
       "      <td>Other</td>\n",
       "      <td>7.0</td>\n",
       "      <td>0.0</td>\n",
       "      <td>2.0</td>\n",
       "      <td>121.833333</td>\n",
       "      <td>0.0</td>\n",
       "      <td>14.0</td>\n",
       "      <td>NaN</td>\n",
       "    </tr>\n",
       "    <tr>\n",
       "      <th>2</th>\n",
       "      <td>1</td>\n",
       "      <td>767.0</td>\n",
       "      <td>1500</td>\n",
       "      <td>13500.0</td>\n",
       "      <td>16700.0</td>\n",
       "      <td>HomeImp</td>\n",
       "      <td>Other</td>\n",
       "      <td>4.0</td>\n",
       "      <td>0.0</td>\n",
       "      <td>0.0</td>\n",
       "      <td>149.466667</td>\n",
       "      <td>1.0</td>\n",
       "      <td>10.0</td>\n",
       "      <td>NaN</td>\n",
       "    </tr>\n",
       "    <tr>\n",
       "      <th>3</th>\n",
       "      <td>1</td>\n",
       "      <td>1425.0</td>\n",
       "      <td>1500</td>\n",
       "      <td>NaN</td>\n",
       "      <td>NaN</td>\n",
       "      <td>NaN</td>\n",
       "      <td>NaN</td>\n",
       "      <td>NaN</td>\n",
       "      <td>NaN</td>\n",
       "      <td>NaN</td>\n",
       "      <td>NaN</td>\n",
       "      <td>NaN</td>\n",
       "      <td>NaN</td>\n",
       "      <td>NaN</td>\n",
       "    </tr>\n",
       "    <tr>\n",
       "      <th>4</th>\n",
       "      <td>0</td>\n",
       "      <td>NaN</td>\n",
       "      <td>1700</td>\n",
       "      <td>97800.0</td>\n",
       "      <td>112000.0</td>\n",
       "      <td>HomeImp</td>\n",
       "      <td>Office</td>\n",
       "      <td>3.0</td>\n",
       "      <td>0.0</td>\n",
       "      <td>0.0</td>\n",
       "      <td>93.333333</td>\n",
       "      <td>0.0</td>\n",
       "      <td>14.0</td>\n",
       "      <td>NaN</td>\n",
       "    </tr>\n",
       "    <tr>\n",
       "      <th>5</th>\n",
       "      <td>1</td>\n",
       "      <td>335.0</td>\n",
       "      <td>1700</td>\n",
       "      <td>30548.0</td>\n",
       "      <td>40320.0</td>\n",
       "      <td>HomeImp</td>\n",
       "      <td>Other</td>\n",
       "      <td>9.0</td>\n",
       "      <td>0.0</td>\n",
       "      <td>0.0</td>\n",
       "      <td>101.466002</td>\n",
       "      <td>1.0</td>\n",
       "      <td>8.0</td>\n",
       "      <td>37.113614</td>\n",
       "    </tr>\n",
       "  </tbody>\n",
       "</table>\n",
       "</div>"
      ],
      "text/plain": [
       "   TARGET_BAD_FLAG  TARGET_LOSS_AMT  LOAN  MORTDUE     VALUE   REASON     JOB  \\\n",
       "0                1            641.0  1100  25860.0   39025.0  HomeImp   Other   \n",
       "1                1           1109.0  1300  70053.0   68400.0  HomeImp   Other   \n",
       "2                1            767.0  1500  13500.0   16700.0  HomeImp   Other   \n",
       "3                1           1425.0  1500      NaN       NaN      NaN     NaN   \n",
       "4                0              NaN  1700  97800.0  112000.0  HomeImp  Office   \n",
       "5                1            335.0  1700  30548.0   40320.0  HomeImp   Other   \n",
       "\n",
       "    YOJ  DEROG  DELINQ       CLAGE  NINQ  CLNO    DEBTINC  \n",
       "0  10.5    0.0     0.0   94.366667   1.0   9.0        NaN  \n",
       "1   7.0    0.0     2.0  121.833333   0.0  14.0        NaN  \n",
       "2   4.0    0.0     0.0  149.466667   1.0  10.0        NaN  \n",
       "3   NaN    NaN     NaN         NaN   NaN   NaN        NaN  \n",
       "4   3.0    0.0     0.0   93.333333   0.0  14.0        NaN  \n",
       "5   9.0    0.0     0.0  101.466002   1.0   8.0  37.113614  "
      ]
     },
     "execution_count": 3,
     "metadata": {},
     "output_type": "execute_result"
    }
   ],
   "source": [
    "df.head(6)"
   ]
  },
  {
   "cell_type": "code",
   "execution_count": 4,
   "id": "c9c6712d",
   "metadata": {},
   "outputs": [
    {
     "name": "stdout",
     "output_type": "stream",
     "text": [
      "<class 'pandas.core.frame.DataFrame'>\n",
      "RangeIndex: 5960 entries, 0 to 5959\n",
      "Data columns (total 14 columns):\n",
      " #   Column           Non-Null Count  Dtype  \n",
      "---  ------           --------------  -----  \n",
      " 0   TARGET_BAD_FLAG  5960 non-null   int64  \n",
      " 1   TARGET_LOSS_AMT  1189 non-null   float64\n",
      " 2   LOAN             5960 non-null   int64  \n",
      " 3   MORTDUE          5442 non-null   float64\n",
      " 4   VALUE            5848 non-null   float64\n",
      " 5   REASON           5708 non-null   object \n",
      " 6   JOB              5681 non-null   object \n",
      " 7   YOJ              5445 non-null   float64\n",
      " 8   DEROG            5252 non-null   float64\n",
      " 9   DELINQ           5380 non-null   float64\n",
      " 10  CLAGE            5652 non-null   float64\n",
      " 11  NINQ             5450 non-null   float64\n",
      " 12  CLNO             5738 non-null   float64\n",
      " 13  DEBTINC          4693 non-null   float64\n",
      "dtypes: float64(10), int64(2), object(2)\n",
      "memory usage: 652.0+ KB\n"
     ]
    }
   ],
   "source": [
    "df.info()"
   ]
  },
  {
   "cell_type": "code",
   "execution_count": 5,
   "id": "f9ec7e84",
   "metadata": {},
   "outputs": [
    {
     "data": {
      "image/png": "[encoded data removed]",
      "text/plain": [
       "<Figure size 1200x800 with 1 Axes>"
      ]
     },
     "metadata": {},
     "output_type": "display_data"
    }
   ],
   "source": [
    "plt.figure(figsize=(12, 8))\n",
    "sns.boxplot(x='TARGET_BAD_FLAG', y='LOAN', data=df, palette=[\"lightblue\", \"lightgreen\"])\n",
    "plt.title('Box Plot of LOAN by TARGET_BAD_FLAG')\n",
    "plt.xlabel('TARGET_BAD_FLAG')\n",
    "plt.ylabel('Loan Amount')\n",
    "plt.show()"
   ]
  },
  {
   "cell_type": "code",
   "execution_count": 6,
   "id": "cdef405c",
   "metadata": {},
   "outputs": [
    {
     "data": {
      "image/png": "[encoded data removed]",
      "text/plain": [
       "<Figure size 800x600 with 1 Axes>"
      ]
     },
     "metadata": {},
     "output_type": "display_data"
    }
   ],
   "source": [
    "plt.figure(figsize=(8, 6))\n",
    "plt.hist(df['LOAN'], bins=20, color='skyblue', edgecolor='black')\n",
    "plt.title('Histogram of LOAN')\n",
    "plt.xlabel('Loan Amount')\n",
    "plt.ylabel('Frequency')\n",
    "plt.show()\n"
   ]
  },
  {
   "cell_type": "code",
   "execution_count": 7,
   "id": "485b1675",
   "metadata": {},
   "outputs": [
    {
     "name": "stdout",
     "output_type": "stream",
     "text": [
      "<class 'pandas.core.frame.DataFrame'>\n",
      "RangeIndex: 5960 entries, 0 to 5959\n",
      "Data columns (total 23 columns):\n",
      " #   Column           Non-Null Count  Dtype  \n",
      "---  ------           --------------  -----  \n",
      " 0   TARGET_BAD_FLAG  5960 non-null   int64  \n",
      " 1   TARGET_LOSS_AMT  5960 non-null   float64\n",
      " 2   LOAN             5960 non-null   int64  \n",
      " 3   REASON           5708 non-null   object \n",
      " 4   JOB              5681 non-null   object \n",
      " 5   IMP_MORTDUE      5960 non-null   float64\n",
      " 6   M_MORTDUE        5960 non-null   int32  \n",
      " 7   IMP_VALUE        5960 non-null   float64\n",
      " 8   M_VALUE          5960 non-null   int32  \n",
      " 9   IMP_YOJ          5960 non-null   float64\n",
      " 10  M_YOJ            5960 non-null   int32  \n",
      " 11  IMP_DEROG        5960 non-null   float64\n",
      " 12  M_DEROG          5960 non-null   int32  \n",
      " 13  IMP_DELINQ       5960 non-null   float64\n",
      " 14  M_DELINQ         5960 non-null   int32  \n",
      " 15  IMP_CLAGE        5960 non-null   float64\n",
      " 16  M_CLAGE          5960 non-null   int32  \n",
      " 17  IMP_NINQ         5960 non-null   float64\n",
      " 18  M_NINQ           5960 non-null   int32  \n",
      " 19  IMP_CLNO         5960 non-null   float64\n",
      " 20  M_CLNO           5960 non-null   int32  \n",
      " 21  IMP_DEBTINC      5960 non-null   float64\n",
      " 22  M_DEBTINC        5960 non-null   int32  \n",
      "dtypes: float64(10), int32(9), int64(2), object(2)\n",
      "memory usage: 861.5+ KB\n",
      "None\n",
      "Total number of missing values flagged: 0\n"
     ]
    }
   ],
   "source": [
    "\n",
    "# Impute missing values for target variable\n",
    "df['TARGET_LOSS_AMT'].fillna(0, inplace=True)\n",
    "\n",
    "# Impute missing values for remaining numeric variables\n",
    "numeric_variables = ['MORTDUE', 'VALUE', 'YOJ', 'DEROG', 'DELINQ', 'CLAGE', 'NINQ', 'CLNO', 'DEBTINC']\n",
    "\n",
    "for var in numeric_variables:\n",
    "    median_value = df[var].median()\n",
    "    df[var].fillna(median_value, inplace=True)\n",
    "    df['IMP_' + var] = df[var]\n",
    "    df['M_' + var] = np.where(df[var].isnull(), 1, 0)\n",
    "    del df[var]\n",
    "\n",
    "# Run a summary to prove that all the variables have been imputed\n",
    "print(df.info())\n",
    "\n",
    "# Compute sum for all the M_ variables to prove that the number of flags is equal to the number of missing values\n",
    "m_variables = [col for col in df.columns if col.startswith('M_')]\n",
    "missing_values_sum = df[m_variables].sum().sum()\n",
    "print(\"Total number of missing values flagged:\", missing_values_sum)\n"
   ]
  },
  {
   "cell_type": "code",
   "execution_count": 8,
   "id": "9269941b",
   "metadata": {},
   "outputs": [
    {
     "name": "stdout",
     "output_type": "stream",
     "text": [
      "<class 'pandas.core.frame.DataFrame'>\n",
      "RangeIndex: 5960 entries, 0 to 5959\n",
      "Data columns (total 23 columns):\n",
      " #   Column           Non-Null Count  Dtype  \n",
      "---  ------           --------------  -----  \n",
      " 0   TARGET_BAD_FLAG  5960 non-null   int64  \n",
      " 1   TARGET_LOSS_AMT  5960 non-null   float64\n",
      " 2   LOAN             5960 non-null   int64  \n",
      " 3   REASON           5708 non-null   object \n",
      " 4   JOB              5681 non-null   object \n",
      " 5   IMP_MORTDUE      5960 non-null   float64\n",
      " 6   M_MORTDUE        5960 non-null   int32  \n",
      " 7   IMP_VALUE        5960 non-null   float64\n",
      " 8   M_VALUE          5960 non-null   int32  \n",
      " 9   IMP_YOJ          5960 non-null   float64\n",
      " 10  M_YOJ            5960 non-null   int32  \n",
      " 11  IMP_DEROG        5960 non-null   float64\n",
      " 12  M_DEROG          5960 non-null   int32  \n",
      " 13  IMP_DELINQ       5960 non-null   float64\n",
      " 14  M_DELINQ         5960 non-null   int32  \n",
      " 15  IMP_CLAGE        5960 non-null   float64\n",
      " 16  M_CLAGE          5960 non-null   int32  \n",
      " 17  IMP_NINQ         5960 non-null   float64\n",
      " 18  M_NINQ           5960 non-null   int32  \n",
      " 19  IMP_CLNO         5960 non-null   float64\n",
      " 20  M_CLNO           5960 non-null   int32  \n",
      " 21  IMP_DEBTINC      5960 non-null   float64\n",
      " 22  M_DEBTINC        5960 non-null   int32  \n",
      "dtypes: float64(10), int32(9), int64(2), object(2)\n",
      "memory usage: 861.5+ KB\n"
     ]
    }
   ],
   "source": [
    "df.info()"
   ]
  },
  {
   "cell_type": "code",
   "execution_count": null,
   "id": "0ab2a5d6",
   "metadata": {},
   "outputs": [],
   "source": []
  }
 ],
 "metadata": {
  "kernelspec": {
   "display_name": "Python 3 (ipykernel)",
   "language": "python",
   "name": "python3"
  },
  "language_info": {
   "codemirror_mode": {
    "name": "ipython",
    "version": 3
   },
   "file_extension": ".py",
   "mimetype": "text/x-python",
   "name": "python",
   "nbconvert_exporter": "python",
   "pygments_lexer": "ipython3",
   "version": "3.11.4"
  }
 },
 "nbformat": 4,
 "nbformat_minor": 5
}
